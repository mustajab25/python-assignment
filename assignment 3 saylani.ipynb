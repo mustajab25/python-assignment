{
 "cells": [
  {
   "cell_type": "markdown",
   "metadata": {},
   "source": [
    "Name : Mustajab Ahmed"
   ]
  },
  {
   "cell_type": "code",
   "execution_count": 2,
   "metadata": {},
   "outputs": [
    {
     "name": "stdout",
     "output_type": "stream",
     "text": [
      "Please select operation -\n",
      "1. Add\n",
      "2. Subtract\n",
      "3. Multiply\n",
      "4. Divide\n",
      "5. Power\n",
      "\n",
      "Select operations form 1, 2, 3, 4, 5 :5\n",
      "Enter first number: 2\n",
      "Enter second number: 3\n",
      "2 ^ 3 = 8\n"
     ]
    }
   ],
   "source": [
    "def add(num1, num2): \n",
    "    return num1 + num2 \n",
    "  \n",
    "def subtract(num1, num2): \n",
    "    return num1 - num2 \n",
    "  \n",
    "def multiply(num1, num2): \n",
    "    return num1 * num2 \n",
    "  \n",
    "def divide(num1, num2): \n",
    "    return num1 / num2 \n",
    "def power(num1, num2):\n",
    "    return num1 ** num2\n",
    "  \n",
    "print(\"Please select operation -\\n\" \\\n",
    "      \"1. Add\\n\" \\\n",
    "      \"2. Subtract\\n\" \\\n",
    "      \"3. Multiply\\n\" \\\n",
    "      \"4. Divide\\n\"\\\n",
    "      \"5. Power\\n\") \n",
    "  \n",
    "  \n",
    "select = input(\"Select operations form 1, 2, 3, 4, 5 :\") \n",
    "  \n",
    "number_1 = int(input(\"Enter first number: \")) \n",
    "number_2 = int(input(\"Enter second number: \")) \n",
    "  \n",
    "if select == '1': \n",
    "    print(number_1, \"+\", number_2, \"=\", \n",
    "                    add(number_1, number_2)) \n",
    "  \n",
    "elif select == '2': \n",
    "    print(number_1, \"-\", number_2, \"=\", \n",
    "                    subtract(number_1, number_2)) \n",
    "  \n",
    "elif select == '3': \n",
    "    print(number_1, \"*\", number_2, \"=\", \n",
    "                    multiply(number_1, number_2)) \n",
    "  \n",
    "elif select == '4': \n",
    "    print(number_1, \"/\", number_2, \"=\", \n",
    "                    divide(number_1, number_2)) \n",
    "elif select == '5':\n",
    "    print(number_1, \"^\", number_2, \"=\", \n",
    "                    power(number_1, number_2))\n",
    "else: \n",
    "    print(\"Invalid input\")"
   ]
  },
  {
   "cell_type": "code",
   "execution_count": 12,
   "metadata": {},
   "outputs": [
    {
     "name": "stdout",
     "output_type": "stream",
     "text": [
      " list contains an integer which is  2\n",
      " list contains an integer which is  5\n"
     ]
    }
   ],
   "source": [
    "a_list= [\"khi\", \"lhr\", 2, 5, \"ahmed\"]\n",
    "for i in city:\n",
    "    if type(i) == int: \n",
    "        print(\" list contains an integer which is \", i)"
   ]
  },
  {
   "cell_type": "code",
   "execution_count": 16,
   "metadata": {},
   "outputs": [
    {
     "name": "stdout",
     "output_type": "stream",
     "text": [
      "{'a': 'Ali', 'b': 'hasan'}\n",
      "{'a': 'Ali', 'b': 'hasan', 'c': 'bilal'}\n"
     ]
    }
   ],
   "source": [
    "a_dict= {\"a\":\"Ali\", \"b\":\"hasan\"}\n",
    "print (a_dict)\n",
    "a_dict.update({\"c\":\"bilal\"})        \n",
    "print (a_dict)"
   ]
  },
  {
   "cell_type": "code",
   "execution_count": 19,
   "metadata": {},
   "outputs": [
    {
     "name": "stdout",
     "output_type": "stream",
     "text": [
      "Sum in Dictionary is: 14\n"
     ]
    }
   ],
   "source": [
    "a_dict = {\"Num1\":5, \"Num2\":2,\"Num3\":7}\n",
    "\n",
    "mySum = 0\n",
    "for i in a_dict:\n",
    "    mySum+=a_dict[i]\n",
    "    \n",
    "print('Sum in Dictionary is:',mySum)\n"
   ]
  },
  {
   "cell_type": "code",
   "execution_count": 21,
   "metadata": {},
   "outputs": [
    {
     "name": "stdout",
     "output_type": "stream",
     "text": [
      "['bilal']\n"
     ]
    }
   ],
   "source": [
    "a_list = [\"ali\",\"hamza\",\"hasan\",\"bilal\",\"bilal\"]\n",
    "repeated_list = []\n",
    "\n",
    "size = len(a_list)\n",
    "for i in range(size):\n",
    "    tmp = i+1\n",
    "    for j in range(tmp,len(a_list)):\n",
    "        if a_list[i] == a_list[j] and a_list[i] not in repeated_list: \n",
    "            repeated_list.append(a_list[i])\n",
    "print(repeated_list)"
   ]
  },
  {
   "cell_type": "code",
   "execution_count": 22,
   "metadata": {},
   "outputs": [
    {
     "name": "stdout",
     "output_type": "stream",
     "text": [
      "found\n"
     ]
    }
   ],
   "source": [
    "a_dict = {\"a\":2, \"b\":3,\"c\":4,}\n",
    "\n",
    "key = \"a\"\n",
    "\n",
    "if key in a_dict:\n",
    "    print('found')\n",
    "else:\n",
    "    print('not found')"
   ]
  },
  {
   "cell_type": "code",
   "execution_count": null,
   "metadata": {},
   "outputs": [],
   "source": []
  }
 ],
 "metadata": {
  "kernelspec": {
   "display_name": "Python 3",
   "language": "python",
   "name": "python3"
  },
  "language_info": {
   "codemirror_mode": {
    "name": "ipython",
    "version": 3
   },
   "file_extension": ".py",
   "mimetype": "text/x-python",
   "name": "python",
   "nbconvert_exporter": "python",
   "pygments_lexer": "ipython3",
   "version": "3.7.3"
  }
 },
 "nbformat": 4,
 "nbformat_minor": 2
}
