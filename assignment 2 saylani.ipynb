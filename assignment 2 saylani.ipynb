{
 "cells": [
  {
   "cell_type": "code",
   "execution_count": 13,
   "metadata": {},
   "outputs": [
    {
     "name": "stdout",
     "output_type": "stream",
     "text": [
      "Write marks of the first subject 90\n",
      "Write marks of the second subject 8\n",
      "Write marks of the third subject 5\n",
      "Write marks of the fourth subject 87\n",
      "Write marks of the fifth subject 56\n",
      "Grade: F\n"
     ]
    }
   ],
   "source": [
    "#QUESTON : 1\n",
    "sub1=int(input(\"Write marks of the first subject \"))\n",
    "sub2=int(input(\"Write marks of the second subject \"))\n",
    "sub3=int(input(\"Write marks of the third subject \"))\n",
    "sub4=int(input(\"Write marks of the fourth subject \"))\n",
    "sub5=int(input(\"Write marks of the fifth subject \"))\n",
    "avg=int(sub1+sub2+sub3+sub4+sub5)/5\n",
    "if(avg>=90):\n",
    "    print('Grade: A')\n",
    "elif(avg<90 and avg>=80):\n",
    "    print('Grade: B')\n",
    "elif(avg<80 and avg>=70):\n",
    "    print('Grade: C')\n",
    "elif(avg<70 and avg >=60):\n",
    "    print('Grade: D')\n",
    "elif(avg<60 and avg >=50):\n",
    "    print('Grade: E')\n",
    "else:\n",
    "    print('Grade: F') "
   ]
  },
  {
   "cell_type": "code",
   "execution_count": 15,
   "metadata": {},
   "outputs": [
    {
     "name": "stdout",
     "output_type": "stream",
     "text": [
      "write a number3\n",
      "number is odd\n"
     ]
    }
   ],
   "source": [
    "# QUESTION : 2\n",
    "num= int (input('write a number'))\n",
    "if (num%2==0):\n",
    "    print('number is even')\n",
    "else:\n",
    "     print('number is odd')"
   ]
  },
  {
   "cell_type": "code",
   "execution_count": 17,
   "metadata": {},
   "outputs": [
    {
     "name": "stdout",
     "output_type": "stream",
     "text": [
      "7\n"
     ]
    }
   ],
   "source": [
    "# QUESTION : 3\n",
    "a_list=[1,2,3,4,5,6,7]\n",
    "print(len(a_list))"
   ]
  },
  {
   "cell_type": "code",
   "execution_count": 26,
   "metadata": {},
   "outputs": [
    {
     "name": "stdout",
     "output_type": "stream",
     "text": [
      "How many elements do you want in the list? 1\n",
      "enter numbers1\n",
      "sum of all numbers in the list is 1\n",
      "1\n"
     ]
    }
   ],
   "source": [
    "# QUESTION : 4\n",
    "a_list=[]\n",
    "num=int(input('How many elements do you want in the list? '))\n",
    "for i in range (num):\n",
    "    elements=int(input('enter numbers'))\n",
    "    a_list.append(elements)\n",
    "print ('sum of all numbers in the list is', sum(a_list))"
   ]
  },
  {
   "cell_type": "code",
   "execution_count": 34,
   "metadata": {},
   "outputs": [
    {
     "name": "stdout",
     "output_type": "stream",
     "text": [
      "7\n"
     ]
    }
   ],
   "source": [
    "# QUESTION :5\n",
    "a_list=[1,2,6,4,7,6]\n",
    "x=a_list[0]\n",
    "y=len(a_list)\n",
    "for n in range (y):\n",
    "    if x<a_list[n]:\n",
    "        x=a_list[n]\n",
    "print(x)"
   ]
  },
  {
   "cell_type": "code",
   "execution_count": 37,
   "metadata": {},
   "outputs": [
    {
     "name": "stdout",
     "output_type": "stream",
     "text": [
      "1\n",
      "2\n",
      "3\n",
      "4\n"
     ]
    }
   ],
   "source": [
    "# QUESTON : 6\n",
    "a_list=[1,2,3,4,5,6,7]\n",
    "x=5\n",
    "y=len(a_list)\n",
    "for n in range (y):\n",
    "    if a_list[n]<x:\n",
    "        print(a_list[n])"
   ]
  },
  {
   "cell_type": "code",
   "execution_count": null,
   "metadata": {},
   "outputs": [],
   "source": []
  }
 ],
 "metadata": {
  "kernelspec": {
   "display_name": "Python 3",
   "language": "python",
   "name": "python3"
  },
  "language_info": {
   "codemirror_mode": {
    "name": "ipython",
    "version": 3
   },
   "file_extension": ".py",
   "mimetype": "text/x-python",
   "name": "python",
   "nbconvert_exporter": "python",
   "pygments_lexer": "ipython3",
   "version": "3.7.4"
  }
 },
 "nbformat": 4,
 "nbformat_minor": 2
}
